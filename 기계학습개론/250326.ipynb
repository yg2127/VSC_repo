{
 "cells": [
  {
   "cell_type": "code",
   "execution_count": 3,
   "metadata": {},
   "outputs": [],
   "source": [
    "import pandas as pd"
   ]
  },
  {
   "cell_type": "code",
   "execution_count": 4,
   "metadata": {},
   "outputs": [],
   "source": [
    "data = {\n",
    "    'price': [10.1, 13.5, 15.3],\n",
    "    'size': ['M', 'L', 'XL'],\n",
    "    'color':['green','red','blue']\n",
    "}"
   ]
  },
  {
   "cell_type": "code",
   "execution_count": 5,
   "metadata": {},
   "outputs": [
    {
     "name": "stdout",
     "output_type": "stream",
     "text": [
      "\n",
      "    price size  color\n",
      "0   10.1    M  green\n",
      "1   13.5    L    red\n",
      "2   15.3   XL   blue\n"
     ]
    }
   ],
   "source": [
    "df = pd.DataFrame(data)\n",
    "print(\"\\n\", df)"
   ]
  },
  {
   "cell_type": "code",
   "execution_count": 6,
   "metadata": {},
   "outputs": [
    {
     "name": "stdout",
     "output_type": "stream",
     "text": [
      "\n",
      " 0     M\n",
      "1     L\n",
      "2    XL\n",
      "Name: size, dtype: category\n",
      "Categories (3, object): ['M' < 'L' < 'XL']\n"
     ]
    }
   ],
   "source": [
    "size_order = ['M', 'L','XL']\n",
    "df['size'] = pd.Categorical(df['size'], categories=size_order, ordered=True)\n",
    "print(\"\\n\", df['size'])"
   ]
  },
  {
   "cell_type": "code",
   "execution_count": 7,
   "metadata": {},
   "outputs": [
    {
     "name": "stdout",
     "output_type": "stream",
     "text": [
      "price     float64\n",
      "size     category\n",
      "color      object\n",
      "dtype: object\n"
     ]
    }
   ],
   "source": [
    "df_encoded = pd.get_dummies(df, columns =['color'], drop_first = True)\n",
    "print(df.dtypes)"
   ]
  },
  {
   "cell_type": "code",
   "execution_count": 8,
   "metadata": {},
   "outputs": [
    {
     "name": "stdout",
     "output_type": "stream",
     "text": [
      "\n",
      " 원본 데이터프레임 (Categorial 처리 포함):\n",
      "   price size  color\n",
      "0   10.1    M  green\n",
      "1   13.5    L    red\n",
      "2   15.3   XL   blue\n",
      "\n",
      " 인코딩 된 데이터프레임(size 순서, color one_hot):\n",
      "   price size  color_green  color_red\n",
      "0   10.1    M         True      False\n",
      "1   13.5    L        False       True\n",
      "2   15.3   XL        False      False\n"
     ]
    }
   ],
   "source": [
    "print(\"\\n 원본 데이터프레임 (Categorial 처리 포함):\")\n",
    "print(df)\n",
    "print(\"\\n 인코딩 된 데이터프레임(size 순서, color one_hot):\")\n",
    "print(df_encoded)"
   ]
  },
  {
   "cell_type": "code",
   "execution_count": null,
   "metadata": {},
   "outputs": [],
   "source": []
  }
 ],
 "metadata": {
  "kernelspec": {
   "display_name": "myenv",
   "language": "python",
   "name": "python3"
  },
  "language_info": {
   "codemirror_mode": {
    "name": "ipython",
    "version": 3
   },
   "file_extension": ".py",
   "mimetype": "text/x-python",
   "name": "python",
   "nbconvert_exporter": "python",
   "pygments_lexer": "ipython3",
   "version": "3.9.6"
  }
 },
 "nbformat": 4,
 "nbformat_minor": 2
}
