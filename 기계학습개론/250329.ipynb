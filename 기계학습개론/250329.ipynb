{
 "cells": [
  {
   "cell_type": "code",
   "execution_count": null,
   "metadata": {},
   "outputs": [],
   "source": [
    "from sklearn.preprocessing import LabelEncoder\n",
    "\n",
    "items = ['TV','냉장고','선풍기','세탁기','전자레인지','세탁기','믹서기','믹서기']\n",
    "\n",
    "enc = LabelEncoder()\n",
    "# LabelEncoder는 문자열을 숫자로 변환해주는 클래스\n",
    "\n",
    "labels = enc.fit_transform(items)\n",
    "# fit_transform()을 사용하면 문자열을 숫자로 변환할 수 있다.\n",
    "print('인코딩 변환값',labels)\n",
    "print('내 이름은 유건!')"
   ]
  },
  {
   "cell_type": "code",
   "execution_count": null,
   "metadata": {},
   "outputs": [],
   "source": []
  }
 ],
 "metadata": {
  "kernelspec": {
   "display_name": "ygenvironment",
   "language": "python",
   "name": "python3"
  },
  "language_info": {
   "codemirror_mode": {
    "name": "ipython",
    "version": 3
   },
   "file_extension": ".py",
   "mimetype": "text/x-python",
   "name": "python",
   "nbconvert_exporter": "python",
   "pygments_lexer": "ipython3",
   "version": "3.10.16"
  }
 },
 "nbformat": 4,
 "nbformat_minor": 2
}
