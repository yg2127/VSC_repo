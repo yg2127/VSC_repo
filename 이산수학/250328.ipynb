{
 "cells": [
  {
   "cell_type": "code",
   "execution_count": 2,
   "metadata": {},
   "outputs": [
    {
     "name": "stdout",
     "output_type": "stream",
     "text": [
      "R = {(1, 2), (1, 1), (2, 3), (3, 3), (2, 2), (1, 3)}\n",
      "R은 반사관계이다.\n"
     ]
    }
   ],
   "source": [
    "# 집합 A의 정의\n",
    "A = {1, 2, 3}\n",
    "# 관계 R을 생성\n",
    "R = { (x, y) for x in A for y in A if x <= y }\n",
    "# 관계 R을 출력\n",
    "print(\"R =\", R)\n",
    "# 반사관계를 판별하는 함수 정의하기\n",
    "def is_reflexive(A, R):\n",
    "    for x in A:\n",
    "        if (x, x) not in R:\n",
    "            return False\n",
    "        return True\n",
    "# 반사관계 판정하기\n",
    "if is_reflexive(A, R):\n",
    "    print(\"R은 반사관계이다.\")\n",
    "else:\n",
    "    print(\"R은 반사관계가 아니다.\")"
   ]
  },
  {
   "cell_type": "code",
   "execution_count": null,
   "metadata": {},
   "outputs": [],
   "source": []
  }
 ],
 "metadata": {
  "kernelspec": {
   "display_name": "myenv",
   "language": "python",
   "name": "python3"
  },
  "language_info": {
   "codemirror_mode": {
    "name": "ipython",
    "version": 3
   },
   "file_extension": ".py",
   "mimetype": "text/x-python",
   "name": "python",
   "nbconvert_exporter": "python",
   "pygments_lexer": "ipython3",
   "version": "3.9.6"
  }
 },
 "nbformat": 4,
 "nbformat_minor": 2
}
